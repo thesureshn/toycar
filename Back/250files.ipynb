{
 "cells": [
  {
   "cell_type": "code",
   "execution_count": 2,
   "metadata": {},
   "outputs": [
    {
     "name": "stdout",
     "output_type": "stream",
     "text": [
      "Collecting SoundFile\n",
      "  Downloading https://files.pythonhosted.org/packages/d7/72/1e80bc350b9a5e8f12fb0814a77d4f77f887382f076501fdaa89aa731b76/SoundFile-0.10.2-py2.py3.cp26.cp27.cp32.cp33.cp34.cp35.cp36.pp27.pp32.pp33-none-win_amd64.whl (692kB)\n",
      "Requirement already satisfied: cffi>=1.0 in c:\\users\\vasuv\\anaconda3\\lib\\site-packages (from SoundFile) (1.12.2)\n",
      "Requirement already satisfied: pycparser in c:\\users\\vasuv\\anaconda3\\lib\\site-packages (from cffi>=1.0->SoundFile) (2.19)\n",
      "Installing collected packages: SoundFile\n",
      "Successfully installed SoundFile-0.10.2\n",
      "Note: you may need to restart the kernel to use updated packages.\n"
     ]
    }
   ],
   "source": [
    "pip install SoundFile"
   ]
  },
  {
   "cell_type": "code",
   "execution_count": 3,
   "metadata": {},
   "outputs": [],
   "source": [
    "import numpy as np\n",
    "import soundfile as sf"
   ]
  },
  {
   "cell_type": "code",
   "execution_count": null,
   "metadata": {},
   "outputs": [],
   "source": [
    "\n",
    "new_data = np.empty([25000,]) #creating an empty array for new file to be generated from original file\n",
    "y1 = np.empty([25000,])\n",
    "for j in range(1,80):\n",
    "\tb= \"back\"+str(j)+\".wav\"\n",
    "\tdata, samplerate = sf.read(b) #reading audio file using soundfile library\n",
    "\tprint(len(data), samplerate)\n",
    "\tx= len(data)\n",
    "\tp = 25000-x\n",
    "\tfor y in range(1 ,p):   \n",
    "\t\tfor i in range(0,y-1):      #adding empty elements in the array in the start\n",
    "\t\t\tnew_data[i] =y1[i]\n",
    "\t\tfor i in range(y,25000-x+y-1):\n",
    "\t\t\tnew_data[i] =data[i-y]\n",
    "\t\tfor i in range(25000-y , 24999):    #adding empty elements in the array in the end \n",
    "\t\t\tnew_data[i] = y1[i]\t\n",
    "\t\ta = \"back__\"+str(j) +\"_\"+str(y)+\".wav\"    #total length becomes 25000\n",
    "\t\tsf.write(a, new_data, samplerate)  #audio files are written back to harddisk\n",
    "\t\tprint(len(new_data))"
   ]
  }
 ],
 "metadata": {
  "kernelspec": {
   "display_name": "Python 3",
   "language": "python",
   "name": "python3"
  },
  "language_info": {
   "codemirror_mode": {
    "name": "ipython",
    "version": 3
   },
   "file_extension": ".py",
   "mimetype": "text/x-python",
   "name": "python",
   "nbconvert_exporter": "python",
   "pygments_lexer": "ipython3",
   "version": "3.7.3"
  }
 },
 "nbformat": 4,
 "nbformat_minor": 2
}
